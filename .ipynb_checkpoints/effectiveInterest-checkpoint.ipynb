{
 "cells": [
  {
   "cell_type": "code",
   "execution_count": 2,
   "id": "9854480c-b472-4743-8e85-ae3675bf7d72",
   "metadata": {},
   "outputs": [
    {
     "name": "stdout",
     "output_type": "stream",
     "text": [
      "Effective rate of Interest by the end of year is : 6.167781186449828\n",
      "Interest that would be earned by the end of first Year: 616.7781186449828\n"
     ]
    }
   ],
   "source": [
    "deposit = 10000\n",
    "nominalInterest = 0.06\n",
    "monthlyInterestRate = 0.5\n",
    "#Effective_rate = ((1 + (Interest/Period per year)) ^ Period per year) − 1\n",
    "effectiveRate = lambda nominalInterest,monthlyInterestRate : (((1+ (0.06/12)) ** 12) - 1)\n",
    "effectiveRate = effectiveRate(nominalInterest, monthlyInterestRate)\n",
    "print('Effective rate of Interest by the end of year is : {}'.format(effectiveRate * 100))\n",
    "\n",
    "EffectiveInterest = deposit * effectiveRate\n",
    "print(\"Interest that would be earned by the end of first Year: {}\". format(EffectiveInterest))"
   ]
  },
  {
   "cell_type": "code",
   "execution_count": null,
   "id": "85d39bac-14cb-4aa6-8c2f-724baa89babb",
   "metadata": {},
   "outputs": [],
   "source": []
  }
 ],
 "metadata": {
  "kernelspec": {
   "display_name": "Python [conda env:base] *",
   "language": "python",
   "name": "conda-base-py"
  },
  "language_info": {
   "codemirror_mode": {
    "name": "ipython",
    "version": 3
   },
   "file_extension": ".py",
   "mimetype": "text/x-python",
   "name": "python",
   "nbconvert_exporter": "python",
   "pygments_lexer": "ipython3",
   "version": "3.13.5"
  }
 },
 "nbformat": 4,
 "nbformat_minor": 5
}
