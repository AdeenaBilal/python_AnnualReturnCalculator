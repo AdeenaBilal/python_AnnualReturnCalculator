{
 "cells": [
  {
   "cell_type": "code",
   "execution_count": 1,
   "id": "3f6dfbe4-8331-4410-85b6-e74f1b9b7fe6",
   "metadata": {},
   "outputs": [
    {
     "name": "stdout",
     "output_type": "stream",
     "text": [
      "[32000.0, 3600.0, 4800.0]\n"
     ]
    }
   ],
   "source": [
    "client_investments = [400000, 45000, 60000]\n",
    "client_returns = []\n",
    "returnRate = 0.08\n",
    "client_returns = [x * returnRate for x in client_investments]\n",
    "print(client_returns)"
   ]
  },
  {
   "cell_type": "code",
   "execution_count": null,
   "id": "af9e2245-7c8e-4788-8392-584fa3a1f18c",
   "metadata": {},
   "outputs": [],
   "source": []
  }
 ],
 "metadata": {
  "kernelspec": {
   "display_name": "Python [conda env:base] *",
   "language": "python",
   "name": "conda-base-py"
  },
  "language_info": {
   "codemirror_mode": {
    "name": "ipython",
    "version": 3
   },
   "file_extension": ".py",
   "mimetype": "text/x-python",
   "name": "python",
   "nbconvert_exporter": "python",
   "pygments_lexer": "ipython3",
   "version": "3.13.5"
  }
 },
 "nbformat": 4,
 "nbformat_minor": 5
}
